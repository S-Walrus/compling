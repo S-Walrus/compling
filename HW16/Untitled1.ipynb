{
 "cells": [
  {
   "cell_type": "code",
   "execution_count": 5,
   "metadata": {},
   "outputs": [],
   "source": [
    "import vk_api\n",
    "import random\n",
    "import requests\n",
    "import json\n",
    "from IPython.display import clear_output\n",
    "import pickle\n",
    "from pymystem3 import Mystem\n",
    "from collections import Counter, OrderedDict\n",
    "from nltk.corpus import stopwords\n",
    "import nltk\n",
    "from tqdm import tqdm"
   ]
  },
  {
   "cell_type": "code",
   "execution_count": 3,
   "metadata": {},
   "outputs": [],
   "source": [
    "with open('vsratoe_dump', 'rb') as f:\n",
    "    dump = pickle.load(f)"
   ]
  },
  {
   "cell_type": "code",
   "execution_count": 4,
   "metadata": {},
   "outputs": [],
   "source": [
    "token = '4b5516cf0b8ddfd85deeec95da1d64ab26bbbbf33e8668408fe9c9a6d4ca63d77c9835644f4c9c3fe6d04'\n",
    "\n",
    "vk = vk_api.VkApi(token=token)\n",
    "\n",
    "session = vk.get_api()"
   ]
  },
  {
   "cell_type": "code",
   "execution_count": 27,
   "metadata": {},
   "outputs": [
    {
     "data": {
      "text/plain": [
       "{'id': 12776,\n",
       " 'from_id': -149517548,\n",
       " 'owner_id': -149517548,\n",
       " 'date': 1554747660,\n",
       " 'marked_as_ads': 0,\n",
       " 'post_type': 'post',\n",
       " 'text': '',\n",
       " 'signer_id': 1757450,\n",
       " 'attachments': [{'type': 'photo',\n",
       "   'photo': {'id': 456240458,\n",
       "    'album_id': -7,\n",
       "    'owner_id': -149517548,\n",
       "    'user_id': 100,\n",
       "    'sizes': [{'type': 'm',\n",
       "      'url': 'https://pp.userapi.com/c850724/v850724598/f72a7/LTvqm1kG-Bg.jpg',\n",
       "      'width': 130,\n",
       "      'height': 107},\n",
       "     {'type': 'o',\n",
       "      'url': 'https://pp.userapi.com/c850724/v850724598/f72aa/Mp995T_jR7k.jpg',\n",
       "      'width': 130,\n",
       "      'height': 107},\n",
       "     {'type': 'p',\n",
       "      'url': 'https://pp.userapi.com/c850724/v850724598/f72ab/KR28o8H8ryo.jpg',\n",
       "      'width': 200,\n",
       "      'height': 164},\n",
       "     {'type': 'q',\n",
       "      'url': 'https://pp.userapi.com/c850724/v850724598/f72ac/PVulLvwuiaA.jpg',\n",
       "      'width': 320,\n",
       "      'height': 263},\n",
       "     {'type': 'r',\n",
       "      'url': 'https://pp.userapi.com/c850724/v850724598/f72ad/t0YAxIFlFXk.jpg',\n",
       "      'width': 510,\n",
       "      'height': 419},\n",
       "     {'type': 's',\n",
       "      'url': 'https://pp.userapi.com/c850724/v850724598/f72a6/5aRFw6UXHq0.jpg',\n",
       "      'width': 75,\n",
       "      'height': 62},\n",
       "     {'type': 'x',\n",
       "      'url': 'https://pp.userapi.com/c850724/v850724598/f72a8/-lC5GL9e81c.jpg',\n",
       "      'width': 604,\n",
       "      'height': 496},\n",
       "     {'type': 'y',\n",
       "      'url': 'https://pp.userapi.com/c850724/v850724598/f72a9/vwSbynvEmPs.jpg',\n",
       "      'width': 778,\n",
       "      'height': 639}],\n",
       "    'text': '',\n",
       "    'date': 1554553180,\n",
       "    'access_key': '318f1004e073cd9268'}}],\n",
       " 'post_source': {'type': 'api', 'platform': 'admin_app'},\n",
       " 'comments': {'count': 6, 'can_post': 1, 'groups_can_post': True},\n",
       " 'likes': {'count': 117, 'user_likes': 0, 'can_like': 1, 'can_publish': 1},\n",
       " 'reposts': {'count': 1, 'user_reposted': 0},\n",
       " 'views': {'count': 2337},\n",
       " 'is_favorite': False}"
      ]
     },
     "execution_count": 27,
     "metadata": {},
     "output_type": "execute_result"
    }
   ],
   "source": [
    "dump[3]"
   ]
  },
  {
   "cell_type": "code",
   "execution_count": 28,
   "metadata": {},
   "outputs": [
    {
     "data": {
      "text/plain": [
       "[{'id': 1757450,\n",
       "  'first_name': 'Станислав',\n",
       "  'last_name': 'Нежилец',\n",
       "  'is_closed': False,\n",
       "  'can_access_closed': True}]"
      ]
     },
     "execution_count": 28,
     "metadata": {},
     "output_type": "execute_result"
    }
   ],
   "source": [
    "bdate = session.users.get(user_ids='1757450', fields='bdate')\n",
    "bdate"
   ]
  },
  {
   "cell_type": "code",
   "execution_count": 30,
   "metadata": {
    "scrolled": false
   },
   "outputs": [
    {
     "name": "stderr",
     "output_type": "stream",
     "text": [
      "100%|██████████| 929/929 [05:21<00:00,  2.89it/s]\n"
     ]
    }
   ],
   "source": [
    "s = {}\n",
    "for item in tqdm(dump):\n",
    "    if 'signer_id' not in item.keys():\n",
    "        continue\n",
    "    user = session.users.get(user_ids=item['signer_id'], fields='bdate')[0]\n",
    "    age = -1\n",
    "    if 'bdate' in user.keys() and user['bdate'].count('.') == 2:\n",
    "        age = int(user['bdate'].split('.')[-1])\n",
    "    s[age] = s.get(age, '') + ' ' + item['text']\n"
   ]
  },
  {
   "cell_type": "code",
   "execution_count": 35,
   "metadata": {},
   "outputs": [],
   "source": [
    "with open('age_dump', 'wb') as out:\n",
    "    pickle.dump(s, out)"
   ]
  },
  {
   "cell_type": "code",
   "execution_count": null,
   "metadata": {},
   "outputs": [],
   "source": []
  }
 ],
 "metadata": {
  "kernelspec": {
   "display_name": "Python 3",
   "language": "python",
   "name": "python3"
  },
  "language_info": {
   "codemirror_mode": {
    "name": "ipython",
    "version": 3
   },
   "file_extension": ".py",
   "mimetype": "text/x-python",
   "name": "python",
   "nbconvert_exporter": "python",
   "pygments_lexer": "ipython3",
   "version": "3.6.8"
  }
 },
 "nbformat": 4,
 "nbformat_minor": 2
}
